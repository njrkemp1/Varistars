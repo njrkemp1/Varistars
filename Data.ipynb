{
 "cells": [
  {
   "cell_type": "markdown",
   "metadata": {},
   "source": [
    "## Importing libraries and data\n",
    "-----"
   ]
  },
  {
   "cell_type": "code",
   "execution_count": 1,
   "metadata": {},
   "outputs": [],
   "source": [
    "import matplotlib.pyplot as plt\n",
    "import pandas as pd\n",
    "import numpy as np\n",
    "import scipy.constants as sp\n",
    "\n",
    "\n",
    "file = pd.read_csv('cleaned_data.csv')\n",
    "shortB = pd.read_excel('data_Summary.xlsx', sheet_name = 'B Short')\n",
    "shortV = pd.read_excel('data_Summary.xlsx', sheet_name = 'V short')\n",
    "all_B = pd.read_excel('data_Summary.xlsx', sheet_name = 'All_Bmag', skiprows=15)\n",
    "all_V = pd.read_excel('data_Summary.xlsx', sheet_name = 'All_V', skiprows=15)\n",
    "\n",
    "newB = pd.read_excel('data_Summary.xlsx', sheet_name = 'B - 24',  skiprows=15)\n",
    "newV = pd.read_excel('data_Summary.xlsx', sheet_name = 'V - 24',  skiprows=15)"
   ]
  },
  {
   "cell_type": "code",
   "execution_count": 2,
   "metadata": {},
   "outputs": [
    {
     "data": {
      "text/html": [
       "<div>\n",
       "<style scoped>\n",
       "    .dataframe tbody tr th:only-of-type {\n",
       "        vertical-align: middle;\n",
       "    }\n",
       "\n",
       "    .dataframe tbody tr th {\n",
       "        vertical-align: top;\n",
       "    }\n",
       "\n",
       "    .dataframe thead th {\n",
       "        text-align: right;\n",
       "    }\n",
       "</style>\n",
       "<table border=\"1\" class=\"dataframe\">\n",
       "  <thead>\n",
       "    <tr style=\"text-align: right;\">\n",
       "      <th></th>\n",
       "      <th>Peak</th>\n",
       "      <th>Period</th>\n",
       "      <th>Power</th>\n",
       "      <th>Frequency</th>\n",
       "      <th>SDE</th>\n",
       "    </tr>\n",
       "  </thead>\n",
       "  <tbody>\n",
       "    <tr>\n",
       "      <th>0</th>\n",
       "      <td>1</td>\n",
       "      <td>0.104830</td>\n",
       "      <td>8.053007</td>\n",
       "      <td>9.539254</td>\n",
       "      <td>8.053007</td>\n",
       "    </tr>\n",
       "    <tr>\n",
       "      <th>1</th>\n",
       "      <td>2</td>\n",
       "      <td>0.043977</td>\n",
       "      <td>1.362765</td>\n",
       "      <td>22.739254</td>\n",
       "      <td>1.362765</td>\n",
       "    </tr>\n",
       "    <tr>\n",
       "      <th>2</th>\n",
       "      <td>3</td>\n",
       "      <td>0.020166</td>\n",
       "      <td>1.340856</td>\n",
       "      <td>49.589254</td>\n",
       "      <td>1.340856</td>\n",
       "    </tr>\n",
       "    <tr>\n",
       "      <th>3</th>\n",
       "      <td>4</td>\n",
       "      <td>0.016119</td>\n",
       "      <td>0.674711</td>\n",
       "      <td>62.039254</td>\n",
       "      <td>0.674711</td>\n",
       "    </tr>\n",
       "    <tr>\n",
       "      <th>4</th>\n",
       "      <td>5</td>\n",
       "      <td>0.037966</td>\n",
       "      <td>0.553016</td>\n",
       "      <td>26.339254</td>\n",
       "      <td>0.553016</td>\n",
       "    </tr>\n",
       "  </tbody>\n",
       "</table>\n",
       "</div>"
      ],
      "text/plain": [
       "   Peak     Period     Power  Frequency       SDE\n",
       "0      1  0.104830  8.053007   9.539254  8.053007\n",
       "1      2  0.043977  1.362765  22.739254  1.362765\n",
       "2      3  0.020166  1.340856  49.589254  1.340856\n",
       "3      4  0.016119  0.674711  62.039254  0.674711\n",
       "4      5  0.037966  0.553016  26.339254  0.553016"
      ]
     },
     "execution_count": 2,
     "metadata": {},
     "output_type": "execute_result"
    }
   ],
   "source": [
    "# viewing first five line to make sure it is correctly extractd from the csv sheet.\n",
    "all_B.head()"
   ]
  },
  {
   "cell_type": "markdown",
   "metadata": {},
   "source": [
    "----------------\n",
    "----------------\n",
    "# Viewing data"
   ]
  },
  {
   "cell_type": "markdown",
   "metadata": {},
   "source": [
    "## Viewing given csv"
   ]
  },
  {
   "cell_type": "code",
   "execution_count": 43,
   "metadata": {},
   "outputs": [
    {
     "data": {
      "text/html": [
       "<div>\n",
       "<style scoped>\n",
       "    .dataframe tbody tr th:only-of-type {\n",
       "        vertical-align: middle;\n",
       "    }\n",
       "\n",
       "    .dataframe tbody tr th {\n",
       "        vertical-align: top;\n",
       "    }\n",
       "\n",
       "    .dataframe thead th {\n",
       "        text-align: right;\n",
       "    }\n",
       "</style>\n",
       "<table border=\"1\" class=\"dataframe\">\n",
       "  <thead>\n",
       "    <tr style=\"text-align: right;\">\n",
       "      <th></th>\n",
       "      <th>Decimal_Date</th>\n",
       "      <th>B_mag</th>\n",
       "      <th>B_magerr</th>\n",
       "      <th>V_mag</th>\n",
       "      <th>V_magerr</th>\n",
       "      <th>B-V</th>\n",
       "    </tr>\n",
       "  </thead>\n",
       "  <tbody>\n",
       "    <tr>\n",
       "      <th>0</th>\n",
       "      <td>23.74464</td>\n",
       "      <td>8.48530</td>\n",
       "      <td>0.05</td>\n",
       "      <td>7.968</td>\n",
       "      <td>0.05</td>\n",
       "      <td>0.51730</td>\n",
       "    </tr>\n",
       "    <tr>\n",
       "      <th>1</th>\n",
       "      <td>23.74674</td>\n",
       "      <td>8.57167</td>\n",
       "      <td>0.05</td>\n",
       "      <td>7.701</td>\n",
       "      <td>0.05</td>\n",
       "      <td>0.87067</td>\n",
       "    </tr>\n",
       "    <tr>\n",
       "      <th>2</th>\n",
       "      <td>23.75139</td>\n",
       "      <td>8.55101</td>\n",
       "      <td>0.05</td>\n",
       "      <td>7.611</td>\n",
       "      <td>0.05</td>\n",
       "      <td>0.94001</td>\n",
       "    </tr>\n",
       "    <tr>\n",
       "      <th>3</th>\n",
       "      <td>23.75603</td>\n",
       "      <td>8.49321</td>\n",
       "      <td>0.05</td>\n",
       "      <td>7.722</td>\n",
       "      <td>0.05</td>\n",
       "      <td>0.77121</td>\n",
       "    </tr>\n",
       "    <tr>\n",
       "      <th>4</th>\n",
       "      <td>23.76068</td>\n",
       "      <td>8.39454</td>\n",
       "      <td>0.05</td>\n",
       "      <td>7.653</td>\n",
       "      <td>0.05</td>\n",
       "      <td>0.74154</td>\n",
       "    </tr>\n",
       "  </tbody>\n",
       "</table>\n",
       "</div>"
      ],
      "text/plain": [
       "   Decimal_Date    B_mag  B_magerr  V_mag  V_magerr      B-V\n",
       "0      23.74464  8.48530      0.05  7.968      0.05  0.51730\n",
       "1      23.74674  8.57167      0.05  7.701      0.05  0.87067\n",
       "2      23.75139  8.55101      0.05  7.611      0.05  0.94001\n",
       "3      23.75603  8.49321      0.05  7.722      0.05  0.77121\n",
       "4      23.76068  8.39454      0.05  7.653      0.05  0.74154"
      ]
     },
     "execution_count": 43,
     "metadata": {},
     "output_type": "execute_result"
    }
   ],
   "source": [
    "file.head()"
   ]
  },
  {
   "cell_type": "code",
   "execution_count": 59,
   "metadata": {},
   "outputs": [],
   "source": [
    "#(file['Decimal_Date'] % 1)*"
   ]
  },
  {
   "cell_type": "code",
   "execution_count": 3,
   "metadata": {},
   "outputs": [
    {
     "data": {
      "image/png": "[encoded data removed]",
      "text/plain": [
       "<Figure size 720x360 with 1 Axes>"
      ]
     },
     "metadata": {
      "needs_background": "light"
     },
     "output_type": "display_data"
    }
   ],
   "source": [
    "## With errror bars\n",
    "\n",
    "plt.figure(figsize = (10,5))\n",
    "\n",
    "plt.title('Magnitudes of two Filters', fontsize = 15)\n",
    "plt.xlabel('Decimal Day', fontsize = 12)\n",
    "plt.ylabel('Apparent Magnitude', fontsize = 12)\n",
    "\n",
    "plt.errorbar(file.Decimal_Date, file.B_mag, yerr= file.B_magerr, label = 'B_mag')\n",
    "plt.errorbar(file.Decimal_Date, file.V_mag, yerr= file.V_magerr, label = 'V_mag')\n",
    "#plt.plot(file.Decimal_Date, file.B_mag, label = 'B_mag')\n",
    "#plt.plot(file.Decimal_Date, file.V_mag, label = 'V_mag')\n",
    "\n",
    "plt.legend(loc = 'right')\n",
    "plt.grid()\n",
    "\n"
   ]
  },
  {
   "cell_type": "markdown",
   "metadata": {},
   "source": [
    "## Plotting B-V against the Desimal Day"
   ]
  },
  {
   "cell_type": "code",
   "execution_count": 4,
   "metadata": {},
   "outputs": [
    {
     "name": "stdout",
     "output_type": "stream",
     "text": [
      "Max =  0.94\n",
      "Min =  0.309\n",
      "avr =  0.62\n"
     ]
    },
    {
     "data": {
      "image/png": "[encoded data removed]",
      "text/plain": [
       "<Figure size 720x360 with 1 Axes>"
      ]
     },
     "metadata": {
      "needs_background": "light"
     },
     "output_type": "display_data"
    }
   ],
   "source": [
    "# Making a Differnce coloumb\n",
    "file['B-V'] = file['B_mag'] - file['V_mag']\n",
    "file['B-V_err'] = np.sqrt((file['B_magerr'])**2 + (file['B_magerr'])**2)\n",
    "\n",
    "\n",
    "\n",
    "plt.figure(figsize = (10,5))\n",
    "\n",
    "plt.title('Difference in Apparent maggnitudes', fontsize = 15)\n",
    "plt.xlabel('Decimal Day', fontsize = 12)\n",
    "plt.ylabel('Apparent Magnitude (B-V)', fontsize = 12)\n",
    "\n",
    "\n",
    "plt.errorbar(file.Decimal_Date, file['B-V'], yerr= file['B-V_err'],  label = 'B-V')\n",
    "plt.grid()\n",
    "\n",
    "maxMag = np.max(file['B-V'])\n",
    "minMag = np.min(file['B-V'])\n",
    "\n",
    "avgMag = np.mean(file['B-V'])\n",
    "\n",
    "#file.head()\n",
    "\n",
    "print('Max = ', np.round(maxMag,3))\n",
    "print('Min = ', np.round(minMag,3))\n",
    "print('avr = ', np.round((maxMag+minMag)/2,2))\n",
    "\n",
    "#avgMag"
   ]
  },
  {
   "cell_type": "markdown",
   "metadata": {},
   "source": [
    "-------------\n",
    "## period luminosity relation for delta Scuti stars:\n",
    "dn -- \n",
    "p25"
   ]
  },
  {
   "cell_type": "code",
   "execution_count": 25,
   "metadata": {},
   "outputs": [
    {
     "data": {
      "text/plain": [
       "2.537012474548522"
      ]
     },
     "execution_count": 25,
     "metadata": {},
     "output_type": "execute_result"
    }
   ],
   "source": [
    "# Mbol -´Mbold “ = ´-3.33logP ` 3.33logQ ´ 10logpTeff{Teffq ´ 1.67logpM{Mdq}\n",
    "\n",
    "\n",
    "def mBol(Teff):\n",
    "\n",
    "    Q = 0.033 #d\n",
    "    mBol_sun = 4.75     #\n",
    "    Teff_sun = 5800 # Kelvin\n",
    "    Period = 0.10483 # Rank one From NASA\n",
    "    #Period = 0.7683 # Rank one From NASA\n",
    "\n",
    "    ans = -3.33*np.log10(Period) + 3.33*np.log10(Q) - 10*np.log10(Teff/Teff_sun) -1.67*np.log10(1.9) + mBol_sun\n",
    "    return ans\n",
    "\n",
    "\n",
    "mBol(5902.26)\n"
   ]
  },
  {
   "cell_type": "markdown",
   "metadata": {},
   "source": [
    "-------------\n",
    "## 1.Determining the Period\n"
   ]
  },
  {
   "cell_type": "code",
   "execution_count": null,
   "metadata": {},
   "outputs": [],
   "source": [
    "## Saved data in All B and All V\n",
    "\n",
    "#------------------------------\n",
    "# third study unit memory abstractions such as paging\n",
    "#------------------------------\n",
    "all_B.head()"
   ]
  },
  {
   "cell_type": "code",
   "execution_count": 99,
   "metadata": {},
   "outputs": [
    {
     "data": {
      "text/plain": [
       "<matplotlib.collections.PathCollection at 0x243764607c0>"
      ]
     },
     "execution_count": 99,
     "metadata": {},
     "output_type": "execute_result"
    },
    {
     "data": {
      "image/png": "[encoded data removed]",
      "text/plain": [
       "<Figure size 720x360 with 1 Axes>"
      ]
     },
     "metadata": {
      "needs_background": "light"
     },
     "output_type": "display_data"
    }
   ],
   "source": [
    "#newB = all_B.sort_values(all_B.Period , ascending=False)\n",
    "plt.figure(figsize=(10,5))\n",
    "plt.title('Power vs Period')\n",
    "\n",
    "plt.xlabel('Period', fontsize = 15)\n",
    "plt.ylabel('Power', fontsize = 15)\n",
    "plt.scatter(all_B.Period, all_B.Power)"
   ]
  },
  {
   "cell_type": "markdown",
   "metadata": {},
   "source": [
    "------------\n",
    "## 2.Determining the temperature variations of the star"
   ]
  },
  {
   "cell_type": "markdown",
   "metadata": {},
   "source": [
    "### useless"
   ]
  },
  {
   "cell_type": "code",
   "execution_count": null,
   "metadata": {},
   "outputs": [],
   "source": [
    "#sound = sp.speed_of_sound\n",
    "#\n",
    "#\n",
    "#nf = pd.DataFrame()\n",
    "#\n",
    "#nf['B-V'] = file['B_mag'] - file['V_mag']\n",
    "#nf['fB - fV'] = newB.Frequency - newV.Frequency\n",
    "#nf['Teff'] = sound/(nf['fB - fV']*0.28978)\n",
    "#\n",
    "##newB.head()\n",
    "##newV.head()\n",
    "#\n",
    "#nf.head()"
   ]
  },
  {
   "cell_type": "code",
   "execution_count": null,
   "metadata": {},
   "outputs": [],
   "source": [
    "## Period = 1/freq\n",
    "\n",
    "\n",
    "lmdMax = 0.28978#*T # lmd -- cm. T -- Kelvin\n",
    "sound = sp.speed_of_sound\n",
    "\n",
    "lmd = sound/all_B.Frequency\n",
    "\n",
    "temp = lmd/0.28978\n",
    "\n",
    "temp\n"
   ]
  },
  {
   "cell_type": "code",
   "execution_count": null,
   "metadata": {},
   "outputs": [],
   "source": []
  },
  {
   "cell_type": "markdown",
   "metadata": {},
   "source": [
    "### Graphing Table\n",
    "p28"
   ]
  },
  {
   "cell_type": "code",
   "execution_count": 118,
   "metadata": {},
   "outputs": [
    {
     "data": {
      "text/plain": [
       "0.659"
      ]
     },
     "execution_count": 118,
     "metadata": {},
     "output_type": "execute_result"
    }
   ],
   "source": [
    "np.round(file['B-V'].mean(),3)"
   ]
  },
  {
   "cell_type": "code",
   "execution_count": 107,
   "metadata": {},
   "outputs": [
    {
     "data": {
      "image/png": "[encoded data removed]",
      "text/plain": [
       "<Figure size 720x360 with 1 Axes>"
      ]
     },
     "metadata": {
      "needs_background": "light"
     },
     "output_type": "display_data"
    }
   ],
   "source": [
    "sg = pd.DataFrame()\n",
    "\n",
    "sg['B-V'] = list([-0.33,-0.31, -0.3, -.24,-.17,-.11, -0.02, 0.05, 0.15, .3, .35, .44, .52, .58, .63, .68,.74,.81,.91,1.15,1.4,1.49,1.64])\n",
    "sg['Teff'] = list([42000, 34000, 30000,20900,15200,11400,9700, 9000,8180,7300,7000,6650, 6250, 5940,5790,5560, 5310,5150,4830,4410,3840,3520,3170])\n",
    "\n",
    "plt.figure(figsize=(10,5))\n",
    "plt.title('Table Graphed',fontsize = 15)\n",
    "plt.ylabel('Temperature [K]',fontsize = 15)\n",
    "plt.xlabel('B-V',fontsize = 15)\n",
    "#plt.plot(sg['Teff'], sg['B-V'])\n",
    "plt.plot(sg['B-V'],sg['Teff'])\n",
    "plt.grid()"
   ]
  },
  {
   "cell_type": "code",
   "execution_count": 130,
   "metadata": {},
   "outputs": [
    {
     "data": {
      "image/png": "[encoded data removed]",
      "text/plain": [
       "<Figure size 432x288 with 1 Axes>"
      ]
     },
     "metadata": {
      "needs_background": "light"
     },
     "output_type": "display_data"
    }
   ],
   "source": [
    "#--- B-V_avb == 0.659 -----\n",
    "plt.xlim(0.659,.67)\n",
    "plt.ylim(5600,5700)\n",
    "\n",
    "plt.ylabel('Temperature [K]',fontsize = 15)\n",
    "plt.xlabel('B-V',fontsize = 15)\n",
    "plt.plot(sg['B-V'],sg['Teff'])\n",
    "\n",
    "\n",
    "plt.grid()\n",
    "\n",
    "\n",
    "# thus Teff = 5690 K"
   ]
  },
  {
   "cell_type": "code",
   "execution_count": 113,
   "metadata": {},
   "outputs": [
    {
     "data": {
      "text/plain": [
       "5304.515798498402"
      ]
     },
     "execution_count": 113,
     "metadata": {},
     "output_type": "execute_result"
    }
   ],
   "source": [
    "(5601)/((0.685+.4)**(2/3))"
   ]
  },
  {
   "cell_type": "markdown",
   "metadata": {},
   "source": [
    "### Plot the calibration values on a graph of B-V as function of Teff\n",
    "\n",
    "B-V = ´-3.684*log(Teff) ` +  14.551  --- for log Teff < 3.961 \\\n",
    "B-V = 0.344*log^2(Teff) - 3.402*log(Teff) + 8.037  ---- for log Teff >3.961\n"
   ]
  },
  {
   "cell_type": "code",
   "execution_count": 142,
   "metadata": {},
   "outputs": [
    {
     "name": "stdout",
     "output_type": "stream",
     "text": [
      "4.623249290397901\n",
      "0.47712125471966244\n"
     ]
    },
    {
     "data": {
      "text/plain": [
       "9141.132414702499"
      ]
     },
     "execution_count": 142,
     "metadata": {},
     "output_type": "execute_result"
    }
   ],
   "source": [
    "print(np.log10(42000))\n",
    "print(np.log10(3))\n",
    "\n",
    "\n",
    "10**(3.961)"
   ]
  },
  {
   "cell_type": "code",
   "execution_count": null,
   "metadata": {},
   "outputs": [],
   "source": [
    "print(np.log10(9141))\n",
    "print(10**3.961)\n",
    "\n",
    "ok = np.arange(0.1 , 3.691,.05)\n",
    "#print(10**ok[:])\n",
    "\n",
    "#print((10**np.log10(10**ok)))\n",
    "10**(-(0.91-14.551)/3.684)"
   ]
  },
  {
   "cell_type": "code",
   "execution_count": 58,
   "metadata": {},
   "outputs": [
    {
     "data": {
      "text/plain": [
       "array([100,  90,  80,  70,  60])"
      ]
     },
     "execution_count": 58,
     "metadata": {},
     "output_type": "execute_result"
    }
   ],
   "source": [
    "np.arange(100,50,-10)"
   ]
  },
  {
   "cell_type": "code",
   "execution_count": 134,
   "metadata": {},
   "outputs": [
    {
     "data": {
      "text/html": [
       "<div>\n",
       "<style scoped>\n",
       "    .dataframe tbody tr th:only-of-type {\n",
       "        vertical-align: middle;\n",
       "    }\n",
       "\n",
       "    .dataframe tbody tr th {\n",
       "        vertical-align: top;\n",
       "    }\n",
       "\n",
       "    .dataframe thead th {\n",
       "        text-align: right;\n",
       "    }\n",
       "</style>\n",
       "<table border=\"1\" class=\"dataframe\">\n",
       "  <thead>\n",
       "    <tr style=\"text-align: right;\">\n",
       "      <th></th>\n",
       "      <th>tempA</th>\n",
       "      <th>eq3_8</th>\n",
       "    </tr>\n",
       "  </thead>\n",
       "  <tbody>\n",
       "    <tr>\n",
       "      <th>0</th>\n",
       "      <td>40000</td>\n",
       "      <td>-2.402989</td>\n",
       "    </tr>\n",
       "    <tr>\n",
       "      <th>1</th>\n",
       "      <td>39000</td>\n",
       "      <td>-2.362482</td>\n",
       "    </tr>\n",
       "    <tr>\n",
       "      <th>2</th>\n",
       "      <td>38000</td>\n",
       "      <td>-2.320923</td>\n",
       "    </tr>\n",
       "    <tr>\n",
       "      <th>3</th>\n",
       "      <td>37000</td>\n",
       "      <td>-2.278255</td>\n",
       "    </tr>\n",
       "    <tr>\n",
       "      <th>4</th>\n",
       "      <td>36000</td>\n",
       "      <td>-2.234418</td>\n",
       "    </tr>\n",
       "  </tbody>\n",
       "</table>\n",
       "</div>"
      ],
      "text/plain": [
       "   tempA     eq3_8\n",
       "0  40000 -2.402989\n",
       "1  39000 -2.362482\n",
       "2  38000 -2.320923\n",
       "3  37000 -2.278255\n",
       "4  36000 -2.234418"
      ]
     },
     "execution_count": 134,
     "metadata": {},
     "output_type": "execute_result"
    }
   ],
   "source": [
    "test = pd.DataFrame()\n",
    "\n",
    "#Teff = np.log10(tempR)\n",
    "#Teff  = 10**((np.arange(-0.33,3.961, 0.5)))\n",
    "#Teff  = 10**((np.arange(-0.33,3.961, 0.5)))\n",
    "\n",
    "tempB = (np.arange(0,7000,50))\n",
    "tempA = (np.arange(40000,0,-1000))\n",
    "\n",
    "\n",
    "test['tempA'] = tempA\n",
    "#test['tempB'] = tempB\n",
    "\n",
    "test['eq3_8'] = -3.684*np.log10(test['tempA']) + 14.551         #------B-V\n",
    "#test['eq3_9'] = 0.344*(np.log10(test['tempB'])**2)- 3.402*np.log10(test['tempB']) + 8.037\n",
    "\n",
    "\n",
    "test.head()\n",
    "\n"
   ]
  },
  {
   "cell_type": "code",
   "execution_count": 176,
   "metadata": {},
   "outputs": [
    {
     "data": {
      "image/png": "[encoded data removed]",
      "text/plain": [
       "<Figure size 720x360 with 1 Axes>"
      ]
     },
     "metadata": {
      "needs_background": "light"
     },
     "output_type": "display_data"
    }
   ],
   "source": [
    "plt.figure(figsize=(10,5))\n",
    "\n",
    "#plt.plot(sg['Teff'], sg['B-V'], '--', label = 'Table')\n",
    "\n",
    "plt.title('Calculated temperatures', fontsize = 15)\n",
    "plt.ylabel('Temperature [K]', fontsize = 15)\n",
    "plt.xlabel('B-V',fontsize = 15)\n",
    "plt.plot((test['eq3_8']),tempA, label = 'eq3.8')\n",
    "\n",
    "#----------Max Bars---------\n",
    "plt.plot([0.309 ,0.309], [0,7341], color = 'red', label = 'Max temp')\n",
    "plt.plot([-2 ,0.309], [7341,7431], color = 'red')\n",
    "\n",
    "\n",
    "#----------AVergae Bars---------\n",
    "plt.plot([0.659 ,0.659], [0,5903], color = 'green', label = 'Average Temp')\n",
    "plt.plot([-2 ,0.659], [5903,5903], color = 'green')\n",
    "\n",
    "\n",
    "#----------Min Bars---------\n",
    "plt.plot([0.94 ,0.94],  [0,4950], color = 'orange', label = 'Min Temp')\n",
    "plt.plot([-2 ,0.94], [4950,4950], color = 'orange')\n",
    "\n",
    "\n",
    "#plt.xticks(np.arange(-2, 3, step=0.6))\n",
    "\n",
    "#plt.xlim(0.645,0.665)\n",
    "plt.ylim(top= 10000, bottom = 2000)\n",
    "plt.xlim(left = 0, right = 2)\n",
    "\n",
    "plt.legend()\n",
    "plt.grid()"
   ]
  },
  {
   "cell_type": "markdown",
   "metadata": {},
   "source": [
    "### Thus draw a graph of m_B-m_V vs Teff"
   ]
  },
  {
   "cell_type": "code",
   "execution_count": 177,
   "metadata": {},
   "outputs": [
    {
     "name": "stdout",
     "output_type": "stream",
     "text": [
      "4950.199394688961\n",
      "5902.263496303527\n",
      "7341.6320855294125\n"
     ]
    }
   ],
   "source": [
    "avrB = file['B-V'].mean()\n",
    "maxB = file['B-V'].max()\n",
    "minB = file['B-V'].min()\n",
    "\n",
    "tempA = 10**((14.551-avrB)/3.684)\n",
    "tempMx = 10**((14.551-maxB)/3.684)\n",
    "tempMn = 10**((14.551-minB)/3.684)\n",
    "\n",
    "print(tempMx)\n",
    "print(tempA )\n",
    "print(tempMn)"
   ]
  },
  {
   "cell_type": "markdown",
   "metadata": {},
   "source": [
    "-----------------------\n",
    "------------------\n",
    "## pLAYING"
   ]
  },
  {
   "cell_type": "markdown",
   "metadata": {},
   "source": [
    "-----------\n",
    "## 3.Calculating the absolute V magnitude"
   ]
  },
  {
   "cell_type": "code",
   "execution_count": 184,
   "metadata": {},
   "outputs": [
    {
     "name": "stdout",
     "output_type": "stream",
     "text": [
      "apprnt V-mag:\t\t 7.85\n",
      "B-V avr:\t\t 0.6585674999999999\n",
      "Teff:\t\t\t 5902.263496303527\n",
      "Bolematric of our Star:\t 2.5370099019324748\n",
      "Bolematric of V-filter:\t 2.557009901932475\n",
      "Distance is:\t\t 114.432 parsec\n"
     ]
    }
   ],
   "source": [
    "## From the Graph on p29---\n",
    "# The Bolemetric Correction (BC) value is -- -0.02\n",
    "\n",
    "Teff = tempA\n",
    "BCv = -0.02\n",
    "\n",
    "Mv = mBol(Teff) - BCv\n",
    "# ^MUST BE 1.89\n",
    "\n",
    "### m - Mv = 5log(d/10)\n",
    "m = file['V_mag'].mean()\n",
    "\n",
    "#x = ((m-Mv+5)/5)\n",
    "x = ((m-Mv+5)/5)\n",
    "logf = 10**x\n",
    "\n",
    "\n",
    "print('apprnt V-mag:\\t\\t', np.round(m,3))\n",
    "print('B-V avr:\\t\\t', file['B-V'].mean())\n",
    "print('Teff:\\t\\t\\t', Teff)\n",
    "print('Bolematric of our Star:\\t', mBol(Teff))\n",
    "print('Bolematric of V-filter:\\t', Mv)\n",
    "print('Distance is:\\t\\t', np.round(logf,3), 'parsec')"
   ]
  },
  {
   "cell_type": "markdown",
   "metadata": {},
   "source": [
    "---\n",
    "## 4.Distance with Dist Modulus"
   ]
  },
  {
   "cell_type": "code",
   "execution_count": null,
   "metadata": {},
   "outputs": [],
   "source": []
  },
  {
   "cell_type": "code",
   "execution_count": null,
   "metadata": {},
   "outputs": [],
   "source": []
  },
  {
   "cell_type": "code",
   "execution_count": null,
   "metadata": {},
   "outputs": [],
   "source": []
  }
 ],
 "metadata": {
  "kernelspec": {
   "display_name": "base",
   "language": "python",
   "name": "python3"
  },
  "language_info": {
   "codemirror_mode": {
    "name": "ipython",
    "version": 3
   },
   "file_extension": ".py",
   "mimetype": "text/x-python",
   "name": "python",
   "nbconvert_exporter": "python",
   "pygments_lexer": "ipython3",
   "version": "3.9.12 (main, Apr  4 2022, 05:22:27) [MSC v.1916 64 bit (AMD64)]"
  },
  "orig_nbformat": 4,
  "vscode": {
   "interpreter": {
    "hash": "fa5cc55bdfd885f8e4d485eecd2adcc8c007285e5cc5be8d49cf1b01dacfbb82"
   }
  }
 },
 "nbformat": 4,
 "nbformat_minor": 2
}
